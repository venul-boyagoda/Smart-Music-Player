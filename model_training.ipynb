{
 "cells": [
  {
   "cell_type": "code",
   "execution_count": 1,
   "metadata": {},
   "outputs": [],
   "source": [
    "import pandas as pd\n",
    "import numpy as np\n",
    "import matplotlib.pyplot as plt\n",
    "\n",
    "import tensorflow as tf\n",
    "import keras\n",
    "from keras.models import Sequential\n",
    "from keras.layers import Conv2D, MaxPooling2D, AveragePooling2D\n",
    "from keras.layers import Dense, Dropout, Flatten, Conv2D, MaxPool2D, BatchNormalization\n",
    "from keras.optimizers import RMSprop,Adam\n",
    "from keras.utils import to_categorical\n",
    "from keras.preprocessing import image\n",
    "from keras_preprocessing.image import ImageDataGenerator"
   ]
  },
  {
   "cell_type": "code",
   "execution_count": 2,
   "metadata": {},
   "outputs": [
    {
     "output_type": "execute_result",
     "data": {
      "text/plain": [
       "   emotion                                             pixels     Usage\n",
       "0        0  70 80 82 72 58 58 60 63 54 58 60 48 89 115 121...  Training\n",
       "1        0  151 150 147 155 148 133 111 140 170 174 182 15...  Training\n",
       "2        2  231 212 156 164 174 138 161 173 182 200 106 38...  Training\n",
       "3        4  24 32 36 30 32 23 19 20 30 41 21 22 32 34 21 1...  Training\n",
       "4        6  4 0 0 0 0 0 0 0 0 0 0 0 3 15 23 28 48 50 58 84...  Training"
      ],
      "text/html": "<div>\n<style scoped>\n    .dataframe tbody tr th:only-of-type {\n        vertical-align: middle;\n    }\n\n    .dataframe tbody tr th {\n        vertical-align: top;\n    }\n\n    .dataframe thead th {\n        text-align: right;\n    }\n</style>\n<table border=\"1\" class=\"dataframe\">\n  <thead>\n    <tr style=\"text-align: right;\">\n      <th></th>\n      <th>emotion</th>\n      <th>pixels</th>\n      <th>Usage</th>\n    </tr>\n  </thead>\n  <tbody>\n    <tr>\n      <th>0</th>\n      <td>0</td>\n      <td>70 80 82 72 58 58 60 63 54 58 60 48 89 115 121...</td>\n      <td>Training</td>\n    </tr>\n    <tr>\n      <th>1</th>\n      <td>0</td>\n      <td>151 150 147 155 148 133 111 140 170 174 182 15...</td>\n      <td>Training</td>\n    </tr>\n    <tr>\n      <th>2</th>\n      <td>2</td>\n      <td>231 212 156 164 174 138 161 173 182 200 106 38...</td>\n      <td>Training</td>\n    </tr>\n    <tr>\n      <th>3</th>\n      <td>4</td>\n      <td>24 32 36 30 32 23 19 20 30 41 21 22 32 34 21 1...</td>\n      <td>Training</td>\n    </tr>\n    <tr>\n      <th>4</th>\n      <td>6</td>\n      <td>4 0 0 0 0 0 0 0 0 0 0 0 3 15 23 28 48 50 58 84...</td>\n      <td>Training</td>\n    </tr>\n  </tbody>\n</table>\n</div>"
     },
     "metadata": {},
     "execution_count": 2
    }
   ],
   "source": [
    "#Load dataset into dataframe\n",
    "data = pd.read_csv('data/fer2013.csv')\n",
    "data.head()"
   ]
  },
  {
   "cell_type": "code",
   "execution_count": 3,
   "metadata": {},
   "outputs": [],
   "source": [
    "#Split training and testing data\n",
    "train = data[data['Usage'] == 'Training']\n",
    "test = data[data['Usage'] != 'Training']"
   ]
  },
  {
   "cell_type": "code",
   "execution_count": 4,
   "metadata": {},
   "outputs": [
    {
     "output_type": "execute_result",
     "data": {
      "text/plain": [
       "   emotion                                             pixels     Usage\n",
       "0        0  70 80 82 72 58 58 60 63 54 58 60 48 89 115 121...  Training\n",
       "1        0  151 150 147 155 148 133 111 140 170 174 182 15...  Training\n",
       "2        2  231 212 156 164 174 138 161 173 182 200 106 38...  Training\n",
       "3        4  24 32 36 30 32 23 19 20 30 41 21 22 32 34 21 1...  Training\n",
       "4        6  4 0 0 0 0 0 0 0 0 0 0 0 3 15 23 28 48 50 58 84...  Training"
      ],
      "text/html": "<div>\n<style scoped>\n    .dataframe tbody tr th:only-of-type {\n        vertical-align: middle;\n    }\n\n    .dataframe tbody tr th {\n        vertical-align: top;\n    }\n\n    .dataframe thead th {\n        text-align: right;\n    }\n</style>\n<table border=\"1\" class=\"dataframe\">\n  <thead>\n    <tr style=\"text-align: right;\">\n      <th></th>\n      <th>emotion</th>\n      <th>pixels</th>\n      <th>Usage</th>\n    </tr>\n  </thead>\n  <tbody>\n    <tr>\n      <th>0</th>\n      <td>0</td>\n      <td>70 80 82 72 58 58 60 63 54 58 60 48 89 115 121...</td>\n      <td>Training</td>\n    </tr>\n    <tr>\n      <th>1</th>\n      <td>0</td>\n      <td>151 150 147 155 148 133 111 140 170 174 182 15...</td>\n      <td>Training</td>\n    </tr>\n    <tr>\n      <th>2</th>\n      <td>2</td>\n      <td>231 212 156 164 174 138 161 173 182 200 106 38...</td>\n      <td>Training</td>\n    </tr>\n    <tr>\n      <th>3</th>\n      <td>4</td>\n      <td>24 32 36 30 32 23 19 20 30 41 21 22 32 34 21 1...</td>\n      <td>Training</td>\n    </tr>\n    <tr>\n      <th>4</th>\n      <td>6</td>\n      <td>4 0 0 0 0 0 0 0 0 0 0 0 3 15 23 28 48 50 58 84...</td>\n      <td>Training</td>\n    </tr>\n  </tbody>\n</table>\n</div>"
     },
     "metadata": {},
     "execution_count": 4
    }
   ],
   "source": [
    "train.head()"
   ]
  },
  {
   "cell_type": "code",
   "execution_count": 5,
   "metadata": {},
   "outputs": [
    {
     "output_type": "execute_result",
     "data": {
      "text/plain": [
       "       emotion                                             pixels       Usage\n",
       "28709        0  254 254 254 254 254 249 255 160 2 58 53 70 77 ...  PublicTest\n",
       "28710        1  156 184 198 202 204 207 210 212 213 214 215 21...  PublicTest\n",
       "28711        4  69 118 61 60 96 121 103 87 103 88 70 90 115 12...  PublicTest\n",
       "28712        6  205 203 236 157 83 158 120 116 94 86 155 180 2...  PublicTest\n",
       "28713        3  87 79 74 66 74 96 77 80 80 84 83 89 102 91 84 ...  PublicTest"
      ],
      "text/html": "<div>\n<style scoped>\n    .dataframe tbody tr th:only-of-type {\n        vertical-align: middle;\n    }\n\n    .dataframe tbody tr th {\n        vertical-align: top;\n    }\n\n    .dataframe thead th {\n        text-align: right;\n    }\n</style>\n<table border=\"1\" class=\"dataframe\">\n  <thead>\n    <tr style=\"text-align: right;\">\n      <th></th>\n      <th>emotion</th>\n      <th>pixels</th>\n      <th>Usage</th>\n    </tr>\n  </thead>\n  <tbody>\n    <tr>\n      <th>28709</th>\n      <td>0</td>\n      <td>254 254 254 254 254 249 255 160 2 58 53 70 77 ...</td>\n      <td>PublicTest</td>\n    </tr>\n    <tr>\n      <th>28710</th>\n      <td>1</td>\n      <td>156 184 198 202 204 207 210 212 213 214 215 21...</td>\n      <td>PublicTest</td>\n    </tr>\n    <tr>\n      <th>28711</th>\n      <td>4</td>\n      <td>69 118 61 60 96 121 103 87 103 88 70 90 115 12...</td>\n      <td>PublicTest</td>\n    </tr>\n    <tr>\n      <th>28712</th>\n      <td>6</td>\n      <td>205 203 236 157 83 158 120 116 94 86 155 180 2...</td>\n      <td>PublicTest</td>\n    </tr>\n    <tr>\n      <th>28713</th>\n      <td>3</td>\n      <td>87 79 74 66 74 96 77 80 80 84 83 89 102 91 84 ...</td>\n      <td>PublicTest</td>\n    </tr>\n  </tbody>\n</table>\n</div>"
     },
     "metadata": {},
     "execution_count": 5
    }
   ],
   "source": [
    "test.head()"
   ]
  },
  {
   "cell_type": "code",
   "execution_count": 6,
   "metadata": {},
   "outputs": [],
   "source": [
    "#Function to prepare data for model\n",
    "def prepare_data(data) :\n",
    "    y_data = keras.utils.to_categorical(data['emotion'])\n",
    "    X_data = np.zeros(shape=(len(data), 48, 48, 1))\n",
    "\n",
    "    for i, row in enumerate(data.index):\n",
    "        pixels = np.fromstring(data.loc[row, 'pixels'], dtype=int, sep=' ')\n",
    "        pixels = np.reshape(pixels, (48, 48)) \n",
    "        X_data[i, :, :, 0] = pixels / 255\n",
    "\n",
    "    return X_data, y_data"
   ]
  },
  {
   "cell_type": "code",
   "execution_count": 7,
   "metadata": {},
   "outputs": [
    {
     "output_type": "stream",
     "name": "stdout",
     "text": [
      "[[[0.2745098 ]\n  [0.31372549]\n  [0.32156863]\n  ...\n  [0.20392157]\n  [0.16862745]\n  [0.16078431]]\n\n [[0.25490196]\n  [0.23921569]\n  [0.22745098]\n  ...\n  [0.21960784]\n  [0.20392157]\n  [0.17254902]]\n\n [[0.19607843]\n  [0.16862745]\n  [0.21176471]\n  ...\n  [0.19215686]\n  [0.21960784]\n  [0.18431373]]\n\n ...\n\n [[0.35686275]\n  [0.25490196]\n  [0.16470588]\n  ...\n  [0.28235294]\n  [0.21960784]\n  [0.16862745]]\n\n [[0.30196078]\n  [0.32156863]\n  [0.30980392]\n  ...\n  [0.41176471]\n  [0.2745098 ]\n  [0.18039216]]\n\n [[0.30196078]\n  [0.28235294]\n  [0.32941176]\n  ...\n  [0.41568627]\n  [0.42745098]\n  [0.32156863]]]\n[1. 0. 0. 0. 0. 0. 0.]\n[[[0.99607843]\n  [0.99607843]\n  [0.99607843]\n  ...\n  [0.0627451 ]\n  [0.        ]\n  [0.63137255]]\n\n [[0.99607843]\n  [0.99607843]\n  [0.99607843]\n  ...\n  [0.06666667]\n  [0.        ]\n  [0.47843137]]\n\n [[0.99607843]\n  [0.99607843]\n  [0.99607843]\n  ...\n  [0.10196078]\n  [0.        ]\n  [0.44705882]]\n\n ...\n\n [[0.25882353]\n  [0.3372549 ]\n  [0.38823529]\n  ...\n  [1.        ]\n  [0.98823529]\n  [0.99607843]]\n\n [[0.32941176]\n  [0.36078431]\n  [0.36078431]\n  ...\n  [0.9254902 ]\n  [1.        ]\n  [1.        ]]\n\n [[0.36470588]\n  [0.35294118]\n  [0.33333333]\n  ...\n  [0.16470588]\n  [0.50588235]\n  [0.70588235]]]\n[1. 0. 0. 0. 0. 0. 0.]\n"
     ]
    }
   ],
   "source": [
    "#Prepare data\n",
    "X_train, y_train = prepare_data(train)\n",
    "X_test, y_test = prepare_data(test)\n",
    "\n",
    "print(X_train[0])\n",
    "print(y_train[0])\n",
    "print(X_test[0])\n",
    "print(y_test[0])"
   ]
  },
  {
   "cell_type": "code",
   "execution_count": 8,
   "metadata": {},
   "outputs": [
    {
     "output_type": "stream",
     "name": "stdout",
     "text": [
      "Model: \"sequential\"\n_________________________________________________________________\nLayer (type)                 Output Shape              Param #   \n=================================================================\nconv2d (Conv2D)              (None, 46, 46, 32)        320       \n_________________________________________________________________\nmax_pooling2d (MaxPooling2D) (None, 23, 23, 32)        0         \n_________________________________________________________________\ndropout (Dropout)            (None, 23, 23, 32)        0         \n_________________________________________________________________\nconv2d_1 (Conv2D)            (None, 21, 21, 64)        18496     \n_________________________________________________________________\nmax_pooling2d_1 (MaxPooling2 (None, 10, 10, 64)        0         \n_________________________________________________________________\ndropout_1 (Dropout)          (None, 10, 10, 64)        0         \n_________________________________________________________________\nflatten (Flatten)            (None, 6400)              0         \n_________________________________________________________________\ndense (Dense)                (None, 256)               1638656   \n_________________________________________________________________\ndropout_2 (Dropout)          (None, 256)               0         \n_________________________________________________________________\ndense_1 (Dense)              (None, 7)                 1799      \n=================================================================\nTotal params: 1,659,271\nTrainable params: 1,659,271\nNon-trainable params: 0\n_________________________________________________________________\n"
     ]
    }
   ],
   "source": [
    "#Create CNN model\n",
    "cnn_model = Sequential()\n",
    "\n",
    "cnn_model.add(Conv2D(32, kernel_size=(3, 3), activation='relu', input_shape=(48,48,1)))\n",
    "cnn_model.add(MaxPooling2D(pool_size=(2, 2), strides=(2, 2)))\n",
    "cnn_model.add(Dropout(0.25))\n",
    "\n",
    "cnn_model.add(Conv2D(64, kernel_size=(3, 3), activation='relu', input_shape=(48,48,1)))\n",
    "cnn_model.add(MaxPooling2D(pool_size=(2, 2), strides=(2, 2)))\n",
    "cnn_model.add(Dropout(0.25))\n",
    "\n",
    "cnn_model.add(Flatten())\n",
    "\n",
    "cnn_model.add(Dense(256, activation='relu'))\n",
    "cnn_model.add(Dropout(0.5))\n",
    "\n",
    "cnn_model.add(Dense(7, activation='softmax'))\n",
    "\n",
    "cnn_model.summary()"
   ]
  },
  {
   "cell_type": "code",
   "execution_count": 9,
   "metadata": {},
   "outputs": [],
   "source": [
    "#Set optimizer and loss function\n",
    "opt = keras.optimizers.Adam(lr=0.001)\n",
    "cnn_model.compile(loss='categorical_crossentropy',\n",
    "                  optimizer=opt, metrics=['accuracy'])"
   ]
  },
  {
   "cell_type": "code",
   "execution_count": 10,
   "metadata": {},
   "outputs": [
    {
     "output_type": "stream",
     "name": "stdout",
     "text": [
      "Epoch 1/20\n",
      "225/225 [==============================] - 83s 354ms/step - loss: 1.7946 - accuracy: 0.2694 - val_loss: 1.5807 - val_accuracy: 0.3966\n",
      "Epoch 2/20\n",
      "225/225 [==============================] - 54s 239ms/step - loss: 1.5826 - accuracy: 0.3856 - val_loss: 1.4773 - val_accuracy: 0.4418\n",
      "Epoch 3/20\n",
      "225/225 [==============================] - 54s 239ms/step - loss: 1.4722 - accuracy: 0.4320 - val_loss: 1.3926 - val_accuracy: 0.4575\n",
      "Epoch 4/20\n",
      "225/225 [==============================] - 54s 238ms/step - loss: 1.4020 - accuracy: 0.4650 - val_loss: 1.3310 - val_accuracy: 0.4883\n",
      "Epoch 5/20\n",
      "225/225 [==============================] - 54s 239ms/step - loss: 1.3557 - accuracy: 0.4813 - val_loss: 1.2948 - val_accuracy: 0.5049\n",
      "Epoch 6/20\n",
      "225/225 [==============================] - 57s 254ms/step - loss: 1.3174 - accuracy: 0.4962 - val_loss: 1.2711 - val_accuracy: 0.5096\n",
      "Epoch 7/20\n",
      "225/225 [==============================] - 65s 289ms/step - loss: 1.2665 - accuracy: 0.5151 - val_loss: 1.2609 - val_accuracy: 0.5164\n",
      "Epoch 8/20\n",
      "225/225 [==============================] - 53s 235ms/step - loss: 1.2388 - accuracy: 0.5256 - val_loss: 1.2220 - val_accuracy: 0.5277\n",
      "Epoch 9/20\n",
      "225/225 [==============================] - 53s 236ms/step - loss: 1.2230 - accuracy: 0.5344 - val_loss: 1.2139 - val_accuracy: 0.5301\n",
      "Epoch 10/20\n",
      "225/225 [==============================] - 53s 238ms/step - loss: 1.1657 - accuracy: 0.5574 - val_loss: 1.1993 - val_accuracy: 0.5391\n",
      "Epoch 11/20\n",
      "225/225 [==============================] - 54s 239ms/step - loss: 1.1291 - accuracy: 0.5721 - val_loss: 1.1973 - val_accuracy: 0.5379\n",
      "Epoch 12/20\n",
      "225/225 [==============================] - 53s 237ms/step - loss: 1.1154 - accuracy: 0.5771 - val_loss: 1.1771 - val_accuracy: 0.5536\n",
      "Epoch 13/20\n",
      "225/225 [==============================] - 53s 236ms/step - loss: 1.0877 - accuracy: 0.5890 - val_loss: 1.1778 - val_accuracy: 0.5492\n",
      "Epoch 14/20\n",
      "225/225 [==============================] - 53s 237ms/step - loss: 1.0625 - accuracy: 0.6015 - val_loss: 1.1811 - val_accuracy: 0.5508\n",
      "Epoch 15/20\n",
      "225/225 [==============================] - 53s 236ms/step - loss: 1.0312 - accuracy: 0.6119 - val_loss: 1.1770 - val_accuracy: 0.5568\n",
      "Epoch 16/20\n",
      "225/225 [==============================] - 53s 237ms/step - loss: 1.0062 - accuracy: 0.6195 - val_loss: 1.1684 - val_accuracy: 0.5582\n",
      "Epoch 17/20\n",
      "225/225 [==============================] - 55s 242ms/step - loss: 0.9743 - accuracy: 0.6278 - val_loss: 1.1654 - val_accuracy: 0.5620\n",
      "Epoch 18/20\n",
      "225/225 [==============================] - 53s 237ms/step - loss: 0.9592 - accuracy: 0.6347 - val_loss: 1.1742 - val_accuracy: 0.5603\n",
      "Epoch 19/20\n",
      "225/225 [==============================] - 53s 236ms/step - loss: 0.9371 - accuracy: 0.6459 - val_loss: 1.1632 - val_accuracy: 0.5639\n",
      "Epoch 20/20\n",
      "225/225 [==============================] - 53s 237ms/step - loss: 0.9182 - accuracy: 0.6514 - val_loss: 1.1649 - val_accuracy: 0.5694\n"
     ]
    }
   ],
   "source": [
    "#Train model for 25 epochs with batch size of 128 items\n",
    "\n",
    "h1 = cnn_model.fit(X_train, y_train, batch_size=128, epochs=20, verbose=1, \n",
    "                   validation_data =(X_test, y_test))"
   ]
  },
  {
   "cell_type": "code",
   "execution_count": 11,
   "metadata": {},
   "outputs": [],
   "source": [
    "#Save model structure and model weights to file\n",
    "cnn_model_json = cnn_model.to_json()\n",
    "with open(\"cnn_model.json\", \"w\") as json_file:\n",
    "    json_file.write(cnn_model_json)\n",
    "cnn_model.save_weights(\"cnn_model.h5\")"
   ]
  },
  {
   "cell_type": "code",
   "execution_count": 12,
   "metadata": {},
   "outputs": [
    {
     "output_type": "stream",
     "name": "stdout",
     "text": [
      "[[2.3285492e-01 3.0285705e-02 3.3384916e-01 ... 9.1298163e-02\n  3.4215279e-02 2.2027995e-01]\n [1.6427286e-01 8.1619076e-02 1.4782828e-01 ... 1.1489506e-01\n  9.1522634e-02 1.4057371e-01]\n [2.5206140e-01 1.7905731e-03 1.9351982e-01 ... 3.6664400e-01\n  1.8343121e-02 1.6651542e-01]\n ...\n [6.6877343e-02 5.7686048e-05 2.6649933e-02 ... 3.9973357e-01\n  1.6553917e-03 4.5138955e-01]\n [3.4251115e-01 2.8320687e-04 3.9529070e-02 ... 2.6910579e-01\n  1.1417701e-04 5.1717903e-02]\n [1.3911027e-01 4.1390671e-03 8.2435340e-02 ... 6.3320816e-01\n  1.5848564e-04 1.4046903e-01]]\n"
     ]
    }
   ],
   "source": [
    "#Ensure model predictions working correctly\n",
    "print(cnn_model.predict(X_test))"
   ]
  },
  {
   "cell_type": "code",
   "execution_count": 13,
   "metadata": {},
   "outputs": [
    {
     "output_type": "stream",
     "name": "stdout",
     "text": [
      "225/225 [==============================] - 3s 14ms/step - loss: 1.1649 - accuracy: 0.5694\n"
     ]
    },
    {
     "output_type": "execute_result",
     "data": {
      "text/plain": [
       "[1.1648504734039307, 0.569378674030304]"
      ]
     },
     "metadata": {},
     "execution_count": 13
    }
   ],
   "source": [
    "#Evaluate accuracy of model\n",
    "cnn_model.evaluate(X_test, y_test)"
   ]
  },
  {
   "cell_type": "code",
   "execution_count": null,
   "metadata": {},
   "outputs": [],
   "source": []
  }
 ],
 "metadata": {
  "kernelspec": {
   "name": "python385jvsc74a57bd0dca0ade3e726a953b501b15e8e990130d2b7799f14cfd9f4271676035ebe5511",
   "display_name": "Python 3.8.5 64-bit ('base': conda)"
  },
  "language_info": {
   "codemirror_mode": {
    "name": "ipython",
    "version": 3
   },
   "file_extension": ".py",
   "mimetype": "text/x-python",
   "name": "python",
   "nbconvert_exporter": "python",
   "pygments_lexer": "ipython3",
   "version": "3.8.5"
  }
 },
 "nbformat": 4,
 "nbformat_minor": 4
}